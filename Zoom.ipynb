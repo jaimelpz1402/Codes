{
 "cells": [
  {
   "cell_type": "code",
   "execution_count": null,
   "id": "d655b4a8-1b91-41f1-bce0-dd63e5bea64c",
   "metadata": {},
   "outputs": [],
   "source": [
    "import numpy as np\n",
    "import matplotlib.pyplot as plt\n",
    "from scipy.signal import find_peaks\n",
    "from scipy.ndimage import uniform_filter1d"
   ]
  },
  {
   "cell_type": "code",
   "execution_count": null,
   "id": "93179e4a-c27a-4f97-af91-8512daefc46a",
   "metadata": {},
   "outputs": [],
   "source": [
    "def convert_float(value):\n",
    "    # Convert bytes to string if necessary\n",
    "    if isinstance(value, bytes):\n",
    "        value = value.decode('utf-8')\n",
    "    return float(value.replace(',', '.'))\n",
    "\n",
    "def load_data_from_file(filename):\n",
    "    # Define converters for each column to handle commas as decimal separators\n",
    "    converters = {0: convert_float, 1: convert_float}\n",
    "    \n",
    "    # Load the data from the file using the converters and specifying the tab delimiter\n",
    "    data = np.loadtxt(filename, delimiter='\\t', converters=converters)\n",
    "    \n",
    "    # Extract each column from the data\n",
    "    x = data[:, 0]\n",
    "    y = data[:, 1]\n",
    "    \n",
    "    return x, y\n",
    "\n",
    "x, y = load_data_from_file(\"C:/Users/jaime/Desktop/Python/Datos1.txt\")\n",
    "#x1, y1 = load_data_from_file(\"H:/Escritorio/Python/Datos2.txt\")\n",
    "#x2, y2 = load_data_from_file(\"H:/Escritorio/Python/Datos3.txt\")\n",
    "#x3, y3 = load_data_from_file(\"H:/Escritorio/Python/Datos4.txt\")\n",
    "#x4, y4 = load_data_from_file(\"H:/Escritorio/Python/Datos5.txt\")"
   ]
  },
  {
   "cell_type": "code",
   "execution_count": null,
   "id": "417a2094-6e62-495a-a142-90a46cc01567",
   "metadata": {},
   "outputs": [],
   "source": [
    "# Define los límites de la región que quieres ampliar (ajusta estos valores según tus necesidades)\n",
    "x_zoom_min = 645    # valor mínimo de x para el zoom\n",
    "x_zoom_max = 660    # valor máximo de x para el zoom\n",
    "\n",
    "# Crea la figura y el eje principal\n",
    "fig, ax = plt.subplots(figsize=(8, 6))\n",
    "ax.plot(x, y, color='blue', label='Datos completos')\n",
    "ax.set_xlabel(r'$\\lambda$ $(nm)$')\n",
    "ax.set_ylabel('Intensidad (cuentas)')\n",
    "ax.set_title('Diodo de emisión roja')\n",
    "\n",
    "# Crea el eje inset para el zoom; los valores en la lista definen [x0, y0, ancho, alto] en coordenadas relativas\n",
    "axins = ax.inset_axes([0.6, 0.35, 0.3, 0.3])\n",
    "axins.plot(x, y, color='blue')\n",
    "axins.set_xlim(x_zoom_min, x_zoom_max)\n",
    "\n",
    "\n",
    "# Dibuja líneas que conectan el inset con la región ampliada en el gráfico principal\n",
    "ax.indicate_inset_zoom(axins, edgecolor=\"black\")\n",
    "\n",
    "# Guarda la figura (ajusta la ruta y el nombre del archivo según corresponda)\n",
    "plt.savefig(\"C:/Users/jaime/Desktop/UGR/Año 3/Óptica 2/Prácticas/Práctica 6/Gráficas/dio.png\")\n",
    "plt.show()\n"
   ]
  }
 ],
 "metadata": {
  "kernelspec": {
   "display_name": "Python 3 (ipykernel)",
   "language": "python",
   "name": "python3"
  },
  "language_info": {
   "codemirror_mode": {
    "name": "ipython",
    "version": 3
   },
   "file_extension": ".py",
   "mimetype": "text/x-python",
   "name": "python",
   "nbconvert_exporter": "python",
   "pygments_lexer": "ipython3",
   "version": "3.11.7"
  }
 },
 "nbformat": 4,
 "nbformat_minor": 5
}
