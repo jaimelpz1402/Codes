{
 "cells": [
  {
   "cell_type": "code",
   "execution_count": 11,
   "id": "985ec55b-73af-4ce7-9784-a9faecaf6b23",
   "metadata": {},
   "outputs": [],
   "source": [
    "import math\n",
    "import numpy as np\n",
    "import random"
   ]
  },
  {
   "cell_type": "code",
   "execution_count": 12,
   "id": "a765e179-b0e4-4080-a112-300f3ad7eb2e",
   "metadata": {},
   "outputs": [],
   "source": [
    "# Definimos los parámetros\n",
    "N = 16  # Tamaño de la matriz\n",
    "S = 2*np.random.randint(2, size=(N,N))-1  # Rellenamos la matriz con 1 y -1 de forma aleatoria.\n",
    "l = 10**4  # Definimos el número de iteraciones\n",
    "T = 0.5  # Temperatura"
   ]
  },
  {
   "cell_type": "code",
   "execution_count": 13,
   "id": "2e2c7391-6b51-4f37-8bac-cd7a6b12927a",
   "metadata": {},
   "outputs": [],
   "source": [
    "#Para hacerlo en joel  \n",
    "with open(\"H:/Escritorio/Compu/Problema2/datos.txt\", \"w\") as f:\n",
    "    # Empezamos el algoritmo\n",
    "    for k in range(l):\n",
    "        for i in range(N):\n",
    "            for j in range(N):\n",
    "                m = np.random.randint(0, N)\n",
    "                n = np.random.randint(0, N)\n",
    "                p=S[m,n]\n",
    "\n",
    "                AE = 2*S[m,n]*(S[(m+1)%N,n] + S[m,(n+1)%N] + S[(m-1)%N,n] + S[m,(n-1)%N])\n",
    "        \n",
    "                if AE < 0:\n",
    "                    p *= -1\n",
    "                elif random.random() < np.exp(-AE/T):\n",
    "                    p *= -1\n",
    "                S[m,n] = p\n",
    "       \n",
    "        np.savetxt(f, S, fmt='%d', delimiter=',')\n",
    "        f.write('\\n')"
   ]
  }
 ],
 "metadata": {
  "kernelspec": {
   "display_name": "Python 3 (ipykernel)",
   "language": "python",
   "name": "python3"
  },
  "language_info": {
   "codemirror_mode": {
    "name": "ipython",
    "version": 3
   },
   "file_extension": ".py",
   "mimetype": "text/x-python",
   "name": "python",
   "nbconvert_exporter": "python",
   "pygments_lexer": "ipython3",
   "version": "3.11.7"
  }
 },
 "nbformat": 4,
 "nbformat_minor": 5
}
