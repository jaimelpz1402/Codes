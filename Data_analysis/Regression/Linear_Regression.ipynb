{
 "cells": [
  {
   "cell_type": "markdown",
   "id": "2d8cd12f-fef6-4309-82ef-ab29f4a010ff",
   "metadata": {},
   "source": [
    "# Regresión lineal"
   ]
  },
  {
   "cell_type": "code",
   "execution_count": 1,
   "id": "f8599531-79d7-47c6-8120-c5e723cdf96c",
   "metadata": {},
   "outputs": [],
   "source": [
    "import numpy as np\n",
    "import os\n",
    "import matplotlib.pyplot as plt\n",
    "from scipy.stats import linregress, pearsonr\n",
    "from scipy.optimize import curve_fit"
   ]
  },
  {
   "cell_type": "code",
   "execution_count": 2,
   "id": "1c38d648-f154-409c-8cf5-6fdf8e739ebd",
   "metadata": {},
   "outputs": [],
   "source": [
    "def convert_float(value):\n",
    "    # Convert bytes to string if necessary\n",
    "    if isinstance(value, bytes):\n",
    "        value = value.decode('utf-8')\n",
    "    return float(value.replace(',', '.'))\n",
    "\n",
    "def load_data_from_file(filename):\n",
    "    # Define converters for each column to handle commas as decimal separators\n",
    "    converters = {0: convert_float, 1: convert_float, 2: convert_float, 3: convert_float}\n",
    "    \n",
    "    # Load the data from the file using the converters and specifying the tab delimiter\n",
    "    data = np.loadtxt(filename, delimiter='\\t', converters=converters)\n",
    "    \n",
    "    # Extract each column from the data\n",
    "    x = data[:, 0]\n",
    "    y = data[:, 1]\n",
    "    errx = data[:, 2]\n",
    "    erry = data[:, 3]\n",
    "    \n",
    "    return x, y, errx, erry\n",
    "\n",
    "# Usage example, replace the path with your actual data file path\n",
    "x, y, errx, erry = load_data_from_file(\"H:/Escritorio/Python/Datos1.txt\")\n",
    "#y1, erry1, x1, errx1 = load_data_from_file(\"H:/Escritorio/Compu/Datos2.txt\")\n",
    "#y2, erry2, x2, errx2 = load_data_from_file(\"H:/Escritorio/Compu/Datos3.txt\")"
   ]
  },
  {
   "cell_type": "code",
   "execution_count": 3,
   "id": "b67d45d3-32ed-4ee3-a4c9-d6cad63a5e4f",
   "metadata": {},
   "outputs": [],
   "source": [
    "slope, intercept, r_value, p_value, std_err = linregress(x, y)\n",
    "#slope1, intercept1, r_value1, p_value1, std_err1 = linregress(x1, y1)\n",
    "#slope2, intercept2, r_value2, p_value2, std_err1 = linregress(x2, y2)"
   ]
  },
  {
   "cell_type": "code",
   "execution_count": 4,
   "id": "a5372cf1-fe29-4df7-aae7-471a444e77be",
   "metadata": {},
   "outputs": [],
   "source": [
    "pearson_coef, _ = pearsonr(x, y)\n",
    "#pearson_coef1, _ = pearsonr(x1, y1)\n",
    "#pearson_coef2, _ = pearsonr(x2, y2)"
   ]
  },
  {
   "cell_type": "code",
   "execution_count": 5,
   "id": "9b28bf5f-af1a-4a95-8f26-e977d7decfb4",
   "metadata": {},
   "outputs": [],
   "source": [
    "def line_fit(x, slope, intercept):\n",
    "    return slope * x + intercept"
   ]
  },
  {
   "cell_type": "code",
   "execution_count": 3,
   "id": "862905e3-f82c-4f06-8761-756d518088ad",
   "metadata": {},
   "outputs": [
    {
     "data": {
      "image/png": "[encoded data removed]",
      "text/plain": [
       "<Figure size 800x600 with 1 Axes>"
      ]
     },
     "metadata": {},
     "output_type": "display_data"
    }
   ],
   "source": [
    "# Valores de x para la línea ajustada\n",
    "#line_x = np.array([min(x), max(x)])\n",
    "#line_x1 = np.array([min(x1), max(x1)])\n",
    "#line_x2 = np.array([min(x2), max(x2)])\n",
    "\n",
    "# Valores de y usando la función de ajuste\n",
    "#line_y = line_fit(line_x, slope, intercept)\n",
    "#line_y1 = line_fit(line_x1, slope1, intercept1)\n",
    "#line_y2 = line_fit(line_x2, slope2, intercept2)\n",
    "\n",
    "\n",
    "plt.figure(figsize=(8, 6))\n",
    "\n",
    "#plt.errorbar(x, y, xerr=errx, yerr=erry, fmt='o', color='blue', capsize=5)  # fmt='o' para puntos\n",
    "#plt.errorbar(x1, y1, xerr=errx1, yerr=erry1, fmt='o', color='red', capsize=5)  # fmt='o' para puntos\n",
    "#plt.errorbar(x2, y2, xerr=errx2, yerr=erry2, fmt='o', color='green', capsize=5)  # fmt='o' para puntos\n",
    "\n",
    "plt.scatter(x, y, color='blue', label='Datos segundo orden sin filtro')  # Dibuja los puntos de datos\n",
    "#plt.scatter(x1, y1, color='red', label='Datos primer orden con filtro')  # Dibuja los puntos de datos\n",
    "#plt.scatter(x2, y2, color='green', label='Datos segundo orden con filtro')  # Dibuja los puntos de datos\n",
    "\n",
    "\n",
    "#plt.plot(line_x, line_y, color='blue', label='Línea de ajuste')  # Dibuja la línea de ajuste\n",
    "#plt.plot(line_x1, line_y1, color='red', label='Línea de ajuste con filtro')  # Dibuja la línea de ajuste\n",
    "#plt.plot(line_x2, line_y2, color='green', label='Línea de ajuste para B=60 mT')  # Dibuja la línea de ajuste\n",
    "\n",
    "\n",
    "plt.plot(x, y, color='blue',label='primer orden sin filtro')\n",
    "#plt.plot(x1, y1, color='red',label='primer orden con filtro')\n",
    "#plt.plot(x2, y2, color='green',label='segundo orden sin filtro')\n",
    "\n",
    "\n",
    "plt.ylabel(r'$\\Delta n$')\n",
    "plt.xlabel(r'$P$ $(Pa)$')\n",
    "#plt.title('Error relativo para d=15.75cm')\n",
    "\n",
    "plt.legend()\n",
    "#plt.grid(True)  #Poner cuadrilla\n",
    "#plt.savefig(\"H:/Escritorio/foto\")  #Guardar plot en ruta\n",
    "plt.show()"
   ]
  },
  {
   "cell_type": "code",
   "execution_count": 7,
   "id": "77af3909-bfa8-4adc-a2fd-61a23bf837fe",
   "metadata": {},
   "outputs": [
    {
     "name": "stdout",
     "output_type": "stream",
     "text": [
      "La ecuación de la recta es y = (588137960.84848678112030029297 ± 70109855.95125927031040191650)x + (0.000625146 ± 0.001300214)\n"
     ]
    }
   ],
   "source": [
    "se_intercept = std_err * np.sqrt(np.sum(x**2) / len(x))\n",
    "#se_intercept1 = std_err1 * np.sqrt(np.sum(x1**2) / len(x1))\n",
    "#se_intercept2 = std_err2 * np.sqrt(np.sum(x2**2) / len(x2))\n",
    "\n",
    "\n",
    "print(f\"La ecuación de la recta es y = ({slope:.20f} ± {std_err:.20f})x + ({intercept:.9f} ± {se_intercept:.9f})\")\n",
    "#print(f\"La ecuación de la línea es y1 = ({slope1:.20f} ± {std_err1:.20f})x + ({intercept1:.9f} ± {se_intercept1:.9f})\")\n",
    "#print(f\"La ecuación de la línea es y2 = ({slope2:.9f} ± {std_err2:.9f})x + ({intercept2:.9f} ± {se_intercept2:.9f})\")"
   ]
  },
  {
   "cell_type": "code",
   "execution_count": 8,
   "id": "fcab7ea3-efe9-464e-a427-7bcb38e3218d",
   "metadata": {},
   "outputs": [
    {
     "name": "stdout",
     "output_type": "stream",
     "text": [
      "Coeficiente de Pearson para los datos experimentales: 0.97934\n"
     ]
    }
   ],
   "source": [
    "print(f'Coeficiente de Pearson para los datos experimentales: {pearson_coef:.5f}')\n",
    "#print(f'Coeficiente de Pearson para los datos experimentales: {pearson_coef1:.5f}')\n",
    "#print(f'Coeficiente de Pearson para los datos experimentales: {pearson_coef2:.5f}')\n",
    "\n",
    "\n",
    "#print(f'R^2 para los datos experimentales: {r_value**2:.5f}')"
   ]
  }
 ],
 "metadata": {
  "kernelspec": {
   "display_name": "Python 3 (ipykernel)",
   "language": "python",
   "name": "python3"
  },
  "language_info": {
   "codemirror_mode": {
    "name": "ipython",
    "version": 3
   },
   "file_extension": ".py",
   "mimetype": "text/x-python",
   "name": "python",
   "nbconvert_exporter": "python",
   "pygments_lexer": "ipython3",
   "version": "3.11.7"
  }
 },
 "nbformat": 4,
 "nbformat_minor": 5
}
